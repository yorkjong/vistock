{
  "nbformat": 4,
  "nbformat_minor": 0,
  "metadata": {
    "colab": {
      "provenance": [],
      "collapsed_sections": [
        "sbkXtLcPmUIX",
        "Mn6TjeCsmXcE"
      ],
      "cell_execution_strategy": "setup",
      "authorship_tag": "ABX9TyP0VD+0aEZOHIS6Q7+wDV1d",
      "include_colab_link": true
    },
    "kernelspec": {
      "name": "python3",
      "display_name": "Python 3"
    },
    "language_info": {
      "name": "python"
    }
  },
  "cells": [
    {
      "cell_type": "markdown",
      "metadata": {
        "id": "view-in-github",
        "colab_type": "text"
      },
      "source": [
        "<a href=\"https://colab.research.google.com/github/yorkjong/vistock/blob/main/notebooks/financials.ipynb\" target=\"_parent\"><img src=\"https://colab.research.google.com/assets/colab-badge.svg\" alt=\"Open In Colab\"/></a>"
      ]
    },
    {
      "cell_type": "markdown",
      "source": [
        "### Install and Setup (this section will be executed automatically)"
      ],
      "metadata": {
        "id": "sbkXtLcPmUIX"
      }
    },
    {
      "cell_type": "markdown",
      "source": [
        "#### Install Required Packages"
      ],
      "metadata": {
        "id": "Mn6TjeCsmXcE"
      }
    },
    {
      "cell_type": "code",
      "execution_count": null,
      "metadata": {
        "id": "wlTI44f8FNWw"
      },
      "outputs": [],
      "source": [
        "%pip install \"git+https://github.com/yorkjong/vistock.git@feature/financials\"\n",
        "%pip install requests-cache\n",
        "\n",
        "!wget -O NotoSansTC-Regular.ttf https://share.cole.tw/d/Tools%20-%20MAC/Fonts/Noto_Sans_TC/static/NotoSansTC-Regular.ttf?sign=bATsZP5QZdI_2EM15sAbcAE48Cacle91CpwUNOCMuM8=:0"
      ]
    },
    {
      "cell_type": "markdown",
      "source": [
        "#### Setup and Configuration"
      ],
      "metadata": {
        "id": "yywuOXakmjy3"
      }
    },
    {
      "cell_type": "code",
      "source": [
        "# @title Enable Requests Cache\n",
        "import requests_cache\n",
        "requests_cache.install_cache('ibd_cache', expire_after=3600)"
      ],
      "metadata": {
        "cellView": "form",
        "id": "byvRN2BKnnGf"
      },
      "execution_count": null,
      "outputs": []
    },
    {
      "cell_type": "code",
      "source": [
        "# @title Set Chinese Font for matplotlib\n",
        "import matplotlib.font_manager as fm\n",
        "import matplotlib.pyplot as plt\n",
        "\n",
        "fm.fontManager.addfont('NotoSansTC-Regular.ttf')\n",
        "font_name = 'Noto Sans TC'\n",
        "if font_name not in plt.rcParams['font.sans-serif']:\n",
        "    plt.rcParams['font.sans-serif'].insert(0, font_name)"
      ],
      "metadata": {
        "cellView": "form",
        "id": "-K7WdHmVmocI"
      },
      "execution_count": null,
      "outputs": []
    },
    {
      "cell_type": "code",
      "source": [
        "# @title Dropdown Menus\n",
        "import ipywidgets as widgets\n",
        "\n",
        "def create_style_dropdown(desc=None, value=None):\n",
        "    return widgets.Dropdown(\n",
        "        options=['default', 'classic', 'yahoo', 'charles', 'tradingview', 'binance', 'binancedark', 'mike', 'nightclouds', 'checkers', 'ibd', 'sas', 'starsandstripes', 'kenan', 'blueskies', 'brasil'],\n",
        "        value='yahoo' if value is None else value,\n",
        "        description='Style:' if desc is None else desc,\n",
        "        style={'description_width': 'initial'},\n",
        "    )\n",
        "\n",
        "def create_template_dropdown(desc=None, value=None):\n",
        "    return widgets.Dropdown(\n",
        "        options=['plotly', 'plotly_white', 'plotly_dark', 'ggplot2', 'seaborn', 'simple_white', 'presentation', 'xgridoff', 'ygridoff'],\n",
        "        value='plotly_dark' if value is None else value,\n",
        "        description='Template:' if desc is None else desc,\n",
        "        style={'description_width': 'initial'},\n",
        "    )"
      ],
      "metadata": {
        "cellView": "form",
        "id": "mDRMprsgm-2b"
      },
      "execution_count": null,
      "outputs": []
    },
    {
      "cell_type": "code",
      "source": [
        "# @title Multiple Searchable Dropdown Menus\n",
        "import ipywidgets as widgets\n",
        "\n",
        "def create_search_box():\n",
        "    '''Create a Text widget for search input'''\n",
        "    return widgets.Text(\n",
        "        description='Search:',\n",
        "        placeholder='Type to search',\n",
        "        layout=widgets.Layout(width='auto')\n",
        "    )\n",
        "\n",
        "def create_dropdown(options, description='Stock:'):\n",
        "    '''Create a Dropdown widget for displaying filtered options'''\n",
        "    return widgets.Dropdown(\n",
        "        description=description,\n",
        "        options=[None] + options,  # None as the default option\n",
        "        layout=widgets.Layout(width='auto'),\n",
        "        value=None  # Set default value to None\n",
        "    )\n",
        "\n",
        "def update_dropdown(change, dropdown, options):\n",
        "    '''Update the options in the dropdown based on search input'''\n",
        "    search_text = change['new'].lower()\n",
        "    filtered = [option for option in options if search_text in option.lower()]\n",
        "    if filtered:\n",
        "        dropdown.options = [None] + filtered\n",
        "        dropdown.value = filtered[0]  # Auto-select the first matching option\n",
        "    else:\n",
        "        dropdown.options = [None]  # Retain only the None option if no match\n",
        "\n",
        "def remove_duplicates_preserve_order(lst):\n",
        "    '''Remove duplicates from a list while preserving order'''\n",
        "    seen = set()\n",
        "    result = []\n",
        "    for item in lst:\n",
        "        if item and item not in seen:\n",
        "            seen.add(item)\n",
        "            result.append(item)\n",
        "    return result\n",
        "\n",
        "def get_dropdowns_selected_options(dropdowns):\n",
        "    '''Get selected options from the dropdowns'''\n",
        "    selected = [dropdown.value for dropdown in dropdowns if dropdown.value]\n",
        "    return remove_duplicates_preserve_order(selected)\n",
        "\n",
        "def create_search_dropdowns(options, max_selections):\n",
        "    '''Create a layout with search boxes and dropdowns'''\n",
        "    # Create UI components\n",
        "    search_boxes = [create_search_box() for _ in range(max_selections)]\n",
        "    dropdowns = [create_dropdown(options) for _ in range(max_selections)]\n",
        "\n",
        "    # Bind search box and dropdown menu events\n",
        "    for search_box, dropdown in zip(search_boxes, dropdowns):\n",
        "        search_box.observe(lambda change, dropdown=dropdown:\n",
        "                            update_dropdown(change, dropdown, options),\n",
        "                            names='value')\n",
        "    # Create the layout\n",
        "    controls = [widgets.HBox([search_box, dropdown])\n",
        "                for search_box, dropdown  in zip(search_boxes, dropdowns)]\n",
        "    layout = widgets.VBox(controls)\n",
        "    return dropdowns, layout"
      ],
      "metadata": {
        "cellView": "form",
        "id": "Pge03cfqmteU"
      },
      "execution_count": null,
      "outputs": []
    },
    {
      "cell_type": "code",
      "source": [
        "# @title enable_plotly_in_cell\n",
        "# ref. https://stackoverflow.com/questions/76593068/plotly-figure-not-rendering-in-ipywidgets-interact-function-google-colab\n",
        "def enable_plotly_in_cell():\n",
        "  import IPython\n",
        "  from plotly.offline import init_notebook_mode\n",
        "  display(IPython.core.display.HTML('''<script src=\"/static/components/requirejs/require.js\"></script>'''))\n",
        "  init_notebook_mode(connected=False)"
      ],
      "metadata": {
        "cellView": "form",
        "id": "b5Vy2BiWnGKl"
      },
      "execution_count": null,
      "outputs": []
    },
    {
      "cell_type": "markdown",
      "source": [
        "### Plots & Reports"
      ],
      "metadata": {
        "id": "_1IyP5sToIgP"
      }
    },
    {
      "cell_type": "code",
      "source": [
        "# @title _ {\"run\":\"auto\"}\n",
        "source = \"U.S. Listed Stocks\" #@param [\"U.S. Listed Stocks\", \"Taiwan Stocks\"]\n",
        "backend = \"Plotly\" # @param [\"mplfinance\",\"Plotly\"]\n",
        "\n",
        "import yfinance as yf\n",
        "\n",
        "import ipywidgets as widgets\n",
        "from IPython.display import display, clear_output\n",
        "\n",
        "import vistock.stock_indices as si\n",
        "import vistock.tw as tw\n",
        "import vistock.mpl.financials as mpl_fin\n",
        "import vistock.plotly.financials as ply_fin\n",
        "\n",
        "MAX_SELECTIONS = 1\n",
        "\n",
        "src_codes = {\n",
        "    'U.S. Listed Stocks': 'USLS',\n",
        "    'Taiwan Stocks': 'TWSE+TPEX+ESB'\n",
        "}[source]\n",
        "symbols = si.get_tickers(src_codes)\n",
        "if source == 'Taiwan Stocks':\n",
        "    symbols = [f\"{tw.stock_name(s)} {s}\" for s in symbols]\n",
        "dropdowns, layout = create_search_dropdowns(symbols, MAX_SELECTIONS)\n",
        "\n",
        "theme_dropdown = {\n",
        "    'mplfinance': create_style_dropdown('Theme:', 'yahoo'),\n",
        "    'Plotly': create_template_dropdown('Theme:', 'plotly'),\n",
        "}[backend]\n",
        "\n",
        "btn_plot = widgets.Button(description=\"Plot a Chart\")\n",
        "btn_report = widgets.Button(description=\"Generate Reports\")\n",
        "btn_clear_last = widgets.Button(description=\"Clear Last\")\n",
        "btn_clear_all = widgets.Button(description=\"Clear All\")\n",
        "outputs = widgets.VBox()\n",
        "\n",
        "display(\n",
        "    layout, theme_dropdown,\n",
        "    widgets.HBox([btn_plot, btn_report]),\n",
        "    widgets.HBox([btn_clear_last, btn_clear_all]),\n",
        "    outputs\n",
        ")\n",
        "\n",
        "chart = {\n",
        "    'mplfinance': mpl_fin,\n",
        "    'Plotly': ply_fin,\n",
        "}[backend]\n",
        "\n",
        "def get_symbols():\n",
        "    selected = get_dropdowns_selected_options(dropdowns)\n",
        "    if source == 'Taiwan Stocks':\n",
        "        selected = [s.split()[0] for s in selected]\n",
        "    return selected\n",
        "\n",
        "def on_plot_click(b):\n",
        "    selected = get_symbols()\n",
        "    new_output = widgets.Output()\n",
        "    with new_output:\n",
        "        if not selected:\n",
        "            print(\"No stock selected. Please select up to 8 stocks.\")\n",
        "        elif backend == 'mplfinance':\n",
        "            chart.plot(symbol=selected[0], style=theme_dropdown.value)\n",
        "        else:  # Plotly\n",
        "            chart.plot(symbol=selected[0],template=theme_dropdown.value)\n",
        "    outputs.children = (new_output,) + outputs.children\n",
        "\n",
        "def on_report_click(b):\n",
        "    selected = get_symbols()\n",
        "    new_output = widgets.Output()\n",
        "    with new_output:\n",
        "        if not selected:\n",
        "            print(\"No stock selected. Please select up to 8 stocks.\")\n",
        "        else:\n",
        "            symbol = selected[0]\n",
        "            ticker = tw.as_yfinance(symbol)\n",
        "            print(f\"\\n{symbol} Quarterly Financials:\")\n",
        "            display(yf.Ticker(ticker).quarterly_financials)\n",
        "            print(f\"\\n{symbol} Annual Financials:\")\n",
        "            display(yf.Ticker(ticker).financials)\n",
        "    outputs.children = (new_output,) + outputs.children\n",
        "\n",
        "def on_clear_last_click(b):\n",
        "    if outputs.children:\n",
        "        children = list(outputs.children)\n",
        "        children.pop(0)\n",
        "        outputs.children = tuple(children)\n",
        "\n",
        "def on_clear_all_click(b):\n",
        "    outputs.children = ()\n",
        "\n",
        "btn_plot.on_click(on_plot_click)\n",
        "btn_report.on_click(on_report_click)\n",
        "btn_clear_last.on_click(on_clear_last_click)\n",
        "btn_clear_all.on_click(on_clear_all_click)\n",
        "\n",
        "if backend == 'Plotly':\n",
        "    enable_plotly_in_cell()\n"
      ],
      "metadata": {
        "cellView": "form",
        "id": "R4w_JSPFoSzp"
      },
      "execution_count": null,
      "outputs": []
    }
  ]
}